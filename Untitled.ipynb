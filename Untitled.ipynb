{
 "cells": [
  {
   "cell_type": "code",
   "execution_count": 1,
   "id": "d6016915-d894-4ca0-9f98-3b7adddbd8f4",
   "metadata": {},
   "outputs": [],
   "source": [
    "import psycopg2"
   ]
  },
  {
   "cell_type": "code",
   "execution_count": null,
   "id": "fa88829c-757a-4b16-a1fd-a3aa795a901c",
   "metadata": {},
   "outputs": [],
   "source": [
    "TabGen = [\n",
    "    'Equipo', 'Semana', 'Fecha', 'Resultado_L', 'R1', 'R2', \n",
    "    'Local_Visitante', 'Equipo_Oponente', 'G', 'P', 'E', \n",
    "    'Diferencia_Pts.', 'OpNomCom', 'PCT', 'PA', 'PC', \n",
    "    'DIFP', 'R', 'Nombre_Abreviado', 'Divisiones'\n",
    "]"
   ]
  },
  {
   "cell_type": "code",
   "execution_count": 14,
   "id": "8112aad1-4712-4cfe-8559-fb50e098ef6e",
   "metadata": {},
   "outputs": [],
   "source": [
    "conexion1 = psycopg2.connect(database=\"Nfl\", user=\"postgres\", password=\"Edgar821\")\n",
    "cursor1 = conexion1.cursor()"
   ]
  },
  {
   "cell_type": "code",
   "execution_count": 15,
   "id": "3de215c2-fbaa-409e-9b4c-39a7cc218a0c",
   "metadata": {},
   "outputs": [
    {
     "name": "stdout",
     "output_type": "stream",
     "text": [
      "('Dallas Cowboys', 1, 'Dom., 11 de Ago.', 'P', 13, 12, 'visitante', 'Los Angeles ', 0, 1, 0, 1, Decimal('0.333'), 58, 51, 7, 'los angeles rams', 'P1', 'DAL', 'NFC ESTE')\n"
     ]
    }
   ],
   "source": [
    "equipo = 'Dallas Cowboys'\n",
    "\n",
    "query = \"\"\"\n",
    "SELECT * \n",
    "FROM calendario1 \n",
    "WHERE Equipo = %s;\n",
    "\"\"\"\n",
    "\n",
    "cursor1.execute(query, (equipo,))\n",
    "resultados = cursor1.fetchall()\n",
    "    \n",
    "cursor1.close()\n",
    "conexion1.close()\n",
    "for row in resultados:\n",
    "    print(row)\n"
   ]
  },
  {
   "cell_type": "code",
   "execution_count": null,
   "id": "02d724be-f9be-4ddc-b0e8-2c5db98d0bac",
   "metadata": {},
   "outputs": [],
   "source": []
  }
 ],
 "metadata": {
  "kernelspec": {
   "display_name": "Python 3 (ipykernel)",
   "language": "python",
   "name": "python3"
  },
  "language_info": {
   "codemirror_mode": {
    "name": "ipython",
    "version": 3
   },
   "file_extension": ".py",
   "mimetype": "text/x-python",
   "name": "python",
   "nbconvert_exporter": "python",
   "pygments_lexer": "ipython3",
   "version": "3.12.6"
  }
 },
 "nbformat": 4,
 "nbformat_minor": 5
}
