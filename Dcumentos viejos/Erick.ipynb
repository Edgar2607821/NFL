{
 "cells": [
  {
   "cell_type": "code",
   "execution_count": 1,
   "id": "893337a9-7b85-41b6-b5ca-00edd65a67c3",
   "metadata": {},
   "outputs": [],
   "source": [
    "from selenium import webdriver\n",
    "from selenium.webdriver.common.by import By\n",
    "from selenium.webdriver.support.ui import WebDriverWait\n",
    "from selenium.webdriver.support import expected_conditions as EC\n",
    "from selenium.webdriver.chrome.service import Service as ChromeService\n",
    "import requests\n",
    "from bs4 import BeautifulSoup\n",
    "import pandas as pd\n",
    "import psycopg2"
   ]
  },
  {
   "cell_type": "code",
   "execution_count": 2,
   "id": "3bb98b32-b67d-40d0-bcf2-baed22302c24",
   "metadata": {},
   "outputs": [],
   "source": [
    "headers = {\n",
    "    'User-Agent': 'Mozilla/5.0 (Windows NT 10.0; Win64; x64) AppleWebKit/537.36 (KHTML, like Gecko) Chrome/58.0.3029.110 Safari/537.36'\n",
    "}\n",
    "\n",
    "cookies = {\n",
    "    'cookie_name': 'cookie_value'\n",
    "}"
   ]
  },
  {
   "cell_type": "code",
   "execution_count": 3,
   "id": "70ea6118-f337-4288-9ed5-8a3ac3c4f659",
   "metadata": {},
   "outputs": [],
   "source": [
    "# Especifica la ubicación del controlador de Chrome (chromedriver.exe)\n",
    "chromedriver_path = 'chromedriver.exe'\n",
    "\n",
    "# Configura el servicio de Chrome con el argumento executable_path\n",
    "chrome_service = ChromeService(executable_path=chromedriver_path)\n",
    "\n",
    "# Crea una instancia del navegador Chrome con el servicio configurado\n",
    "driver = webdriver.Chrome(service=chrome_service)\n",
    "\n",
    "# Abre la página web\n",
    "url = 'https://www.google.com'\n",
    "driver.get(url)\n"
   ]
  },
  {
   "cell_type": "code",
   "execution_count": null,
   "id": "8821ed60-bf96-4495-911a-d979f20d1f35",
   "metadata": {},
   "outputs": [],
   "source": []
  }
 ],
 "metadata": {
  "kernelspec": {
   "display_name": "Python 3 (ipykernel)",
   "language": "python",
   "name": "python3"
  },
  "language_info": {
   "codemirror_mode": {
    "name": "ipython",
    "version": 3
   },
   "file_extension": ".py",
   "mimetype": "text/x-python",
   "name": "python",
   "nbconvert_exporter": "python",
   "pygments_lexer": "ipython3",
   "version": "3.11.5"
  }
 },
 "nbformat": 4,
 "nbformat_minor": 5
}
